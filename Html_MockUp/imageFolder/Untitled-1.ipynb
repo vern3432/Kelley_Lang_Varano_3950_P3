{
 "cells": [
  {
   "cell_type": "code",
   "execution_count": 12,
   "metadata": {},
   "outputs": [
    {
     "name": "stdout",
     "output_type": "stream",
     "text": [
      "64\n",
      "0\n",
      "104\n",
      "61\n"
     ]
    }
   ],
   "source": [
    "def max_subarray(A):\n",
    "    n=len(A)\n",
    "    curr_max=0\n",
    "    for i in range(0,n):\n",
    "        for j in range(i,n):\n",
    "            curr_sum=0\n",
    "            for k in range(i,n):\n",
    "                curr_sum=curr_sum+A[k]\n",
    "                if curr_sum> curr_max:\n",
    "                    curr_max=curr_sum\n",
    "    return curr_max\n",
    "\n",
    "print(max_subarray([1,-1,3,4,5,2,1,3,5,7,34,-4]))\n",
    "print(max_subarray([-31, -26, -15, -7, -3]))\n",
    "print(max_subarray([37, 1, 3, 14, 49]))\n",
    "print(max_subarray([37, -31, -28, 18, 43]))"
   ]
  },
  {
   "cell_type": "code",
   "execution_count": 13,
   "metadata": {},
   "outputs": [
    {
     "name": "stdout",
     "output_type": "stream",
     "text": [
      "64\n",
      "-31\n",
      "104\n",
      "61\n"
     ]
    }
   ],
   "source": [
    "#COde to check if previsu fomrula works\n",
    "\n",
    "def maxSubArraySum(a):\n",
    "    size=len(a)\n",
    "    max_so_far = a[0]\n",
    "    max_ending_here = 0\n",
    "     \n",
    "    for i in range(0, size):\n",
    "        max_ending_here = max_ending_here + a[i]\n",
    "        if max_ending_here < 0:\n",
    "            max_ending_here = 0\n",
    "         \n",
    "        # Do not compare for all elements. Compare only   \n",
    "        # when  max_ending_here > 0\n",
    "        elif (max_so_far < max_ending_here):\n",
    "            max_so_far = max_ending_here\n",
    "             \n",
    "    return max_so_far\n",
    "print(maxSubArraySum([1,-1,3,4,5,2,1,3,5,7,34,-4]))\n",
    "print(maxSubArraySum([-31, -26, -15, -7, -3]))\n",
    "print(maxSubArraySum([37, 1, 3, 14, 49]))\n",
    "print(maxSubArraySum([37, -31, -28, 18, 43]))"
   ]
  },
  {
   "cell_type": "code",
   "execution_count": 1,
   "metadata": {},
   "outputs": [
    {
     "name": "stdout",
     "output_type": "stream",
     "text": [
      "Unsorted Array\n",
      "[18, 34, 22, 27]\n",
      "pivot:\n",
      "27\n",
      "first\n",
      "[18, 22, 27, 34]\n",
      "pivot:\n",
      "22\n",
      "first\n",
      "[18, 22, 27, 34]\n",
      "second\n",
      "[18, 22, 27, 34]\n",
      "last\n",
      "[18, 22, 27, 34]\n",
      "second\n",
      "[18, 22, 27, 34]\n",
      "last\n",
      "[18, 22, 27, 34]\n",
      "Sorted Array in Ascending Order:\n",
      "[18, 22, 27, 34]\n"
     ]
    }
   ],
   "source": [
    "\n",
    "# Python program for implementation of Quicksort Sort\n",
    " \n",
    "# This implementation utilizes pivot as the last element in the nums list\n",
    "# It has a pointer to keep track of the elements smaller than the pivot\n",
    "# At the very end of partition() function, the pointer is swapped with the pivot\n",
    "# to come up with a \"sorted\" nums relative to the pivot\n",
    " \n",
    " \n",
    "# Function to find the partition position\n",
    "def partition(array, low, high):\n",
    " \n",
    "    # choose the rightmost element as pivot\n",
    "    pivot = array[high]\n",
    " \n",
    "    # pointer for greater element\n",
    "    i = low - 1\n",
    "    print(\"pivot:\")\n",
    "    print(pivot)\n",
    "    # traverse through all elements\n",
    "    # compare each element with pivot\n",
    "    for j in range(low, high):\n",
    "        if array[j] <= pivot:\n",
    " \n",
    "            # If element smaller than pivot is found\n",
    "            # swap it with the greater element pointed by i\n",
    "            i = i + 1\n",
    " \n",
    "            # Swapping element at i with element at j\n",
    "            (array[i], array[j]) = (array[j], array[i])\n",
    " \n",
    "    # Swap the pivot element with the greater element specified by i\n",
    "    (array[i + 1], array[high]) = (array[high], array[i + 1])\n",
    " \n",
    "    # Return the position from where partition is done\n",
    "    return i + 1\n",
    " \n",
    "# function to perform quicksort\n",
    " \n",
    " \n",
    "def quickSort(array, low, high):\n",
    "    if low < high:\n",
    " \n",
    "        # Find pivot element such that\n",
    "        # element smaller than pivot are on the left\n",
    "        # element greater than pivot are on the right\n",
    "        pi = partition(array, low, high)\n",
    "        print(\"first\")\n",
    "        print(array) \n",
    "        # Recursive call on the left of pivot\n",
    "    \n",
    "        quickSort(array, low, pi - 1)\n",
    "        print(\"second\")\n",
    "        print((array)) \n",
    "\n",
    "        # Recursive call on the right of pivot\n",
    "        quickSort(array, pi + 1, high)\n",
    "        print(\"last\")\n",
    "        print((array)) \n",
    "\n",
    " \n",
    " \n",
    "data = [18,34,22,27]\n",
    "print(\"Unsorted Array\")\n",
    "print(data)\n",
    " \n",
    "size = len(data)\n",
    " \n",
    "quickSort(data, 0, size - 1)\n",
    " \n",
    "print('Sorted Array in Ascending Order:')\n",
    "print(data)"
   ]
  }
 ],
 "metadata": {
  "kernelspec": {
   "display_name": "Python 3",
   "language": "python",
   "name": "python3"
  },
  "language_info": {
   "codemirror_mode": {
    "name": "ipython",
    "version": 3
   },
   "file_extension": ".py",
   "mimetype": "text/x-python",
   "name": "python",
   "nbconvert_exporter": "python",
   "pygments_lexer": "ipython3",
   "version": "3.10.6"
  },
  "orig_nbformat": 4
 },
 "nbformat": 4,
 "nbformat_minor": 2
}
